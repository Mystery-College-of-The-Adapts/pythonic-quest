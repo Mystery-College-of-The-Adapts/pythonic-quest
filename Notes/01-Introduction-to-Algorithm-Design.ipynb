{
 "cells": [
  {
   "cell_type": "markdown",
   "metadata": {},
   "source": [
    "What's an algorithm\n",
    "======================\n",
    "\n",
    "An algorithm is a procedure to accomplish a specific task.\n",
    "\n",
    "Example: Sorting\n",
    "- Input: A sequence of N numbers $a_1,..,a_n$\n",
    "- Output: the permutation of the input sequence\n",
    "\n",
    "We seek algorithms which are correct and efficient."
   ]
  },
  {
   "cell_type": "code",
   "execution_count": 1,
   "metadata": {
    "collapsed": false
   },
   "outputs": [],
   "source": [
    "import numpy as np"
   ]
  },
  {
   "cell_type": "code",
   "execution_count": 2,
   "metadata": {
    "collapsed": true
   },
   "outputs": [],
   "source": [
    "def insertion_sort(alist):\n",
    "    n = len(alist)\n",
    "    for i in range(1,n):\n",
    "        j = i\n",
    "        while j > 0 and alist[j] < alist[j-1]:\n",
    "            #swap(alist[j], alist[j-1])\n",
    "            alist[j], alist[j-1] = alist[j-1], alist[j]\n",
    "            j = j - 1\n",
    "    return alist"
   ]
  },
  {
   "cell_type": "code",
   "execution_count": 3,
   "metadata": {
    "collapsed": false
   },
   "outputs": [
    {
     "data": {
      "text/plain": [
       "array([401, 561, 574, 808, 278, 748, 948, 110, 756, 529])"
      ]
     },
     "execution_count": 3,
     "metadata": {},
     "output_type": "execute_result"
    }
   ],
   "source": [
    "a = np.random.randint(1000, size=10)\n",
    "a"
   ]
  },
  {
   "cell_type": "code",
   "execution_count": 4,
   "metadata": {
    "collapsed": false
   },
   "outputs": [
    {
     "name": "stdout",
     "output_type": "stream",
     "text": [
      "[110 278 401 529 561 574 748 756 808 948]\n"
     ]
    }
   ],
   "source": [
    "print(insertion_sort(a))"
   ]
  },
  {
   "cell_type": "markdown",
   "metadata": {},
   "source": [
    "Correctness\n",
    "====================\n",
    "For any algorithm, we must prove that it **always** returns the desired output for all legal instances of the problem.\n",
    "\n",
    "*Algorithm correctness is not obvious in many optimization\n",
    "problems!*\n",
    "\n",
    "Efficiency: Why Not Use a supercomputer?\n",
    "=====================================\n",
    "\n",
    "A faster algorithm running on a slower computer will always\n",
    "win for sufficiently large instances, as we shall see.\n",
    "Usually, problems don’t have to get that large before the faster\n",
    "algorithm wins.\n",
    "\n",
    "\n",
    "Demonstrating Incorrectness\n",
    "==========================\n",
    "Searching for counterexamples is the best way to disprove the\n",
    "correctness of a heuristic.\n",
    "- Think about all small examples.\n",
    "- Think about examples with ties on your decision criteria (e.g. pick the nearest point)\n",
    "- Think about examples with extremes of big and small. . .\n",
    "\n",
    "\n",
    "Induction and Recursion\n",
    "=======================\n",
    "\n",
    "Failure to find a counterexample to a given algorithm does\n",
    "not mean “it is obvious” that the algorithm is correct.\n",
    "Mathematical induction is a very useful method for proving\n",
    "the correctness of recursive algorithms.\n",
    "Recursion and induction are the same basic idea: \n",
    "- (1) basis case, \n",
    "- (2) general assumption, \n",
    "- (3) general case."
   ]
  }
 ],
 "metadata": {
  "kernelspec": {
   "display_name": "Python [conda env:py3]",
   "language": "python",
   "name": "conda-env-py3-py"
  },
  "language_info": {
   "codemirror_mode": {
    "name": "ipython",
    "version": 3
   },
   "file_extension": ".py",
   "mimetype": "text/x-python",
   "name": "python",
   "nbconvert_exporter": "python",
   "pygments_lexer": "ipython3",
   "version": "3.5.2"
  }
 },
 "nbformat": 4,
 "nbformat_minor": 1
}
