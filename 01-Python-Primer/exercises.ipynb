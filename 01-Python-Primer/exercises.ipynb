{
 "cells": [
  {
   "cell_type": "markdown",
   "metadata": {
    "toc": "true"
   },
   "source": [
    " # Table of Contents\n",
    "<div class=\"toc\" style=\"margin-top: 1em;\"><ul class=\"toc-item\" id=\"toc-level0\"><li><span><a href=\"http://localhost:8888/notebooks/01-Python-Primer/exercises.ipynb#Problem-1\" data-toc-modified-id=\"Problem-1-1\"><span class=\"toc-item-num\">1&nbsp;&nbsp;</span>Problem 1</a></span><ul class=\"toc-item\"><li><span><a href=\"http://localhost:8888/notebooks/01-Python-Primer/exercises.ipynb#Method-1---Assume-that-n-is-a-positive-interger-and-Repeatedly-subtract-m-for-n\" data-toc-modified-id=\"Method-1---Assume-that-n-is-a-positive-interger-and-Repeatedly-subtract-m-for-n-1.1\"><span class=\"toc-item-num\">1.1&nbsp;&nbsp;</span>Method 1 - Assume that n is a positive interger and Repeatedly subtract m for n</a></span></li></ul></li><li><span><a href=\"http://localhost:8888/notebooks/01-Python-Primer/exercises.ipynb#Problem-2\" data-toc-modified-id=\"Problem-2-2\"><span class=\"toc-item-num\">2&nbsp;&nbsp;</span>Problem 2</a></span><ul class=\"toc-item\"><li><span><a href=\"http://localhost:8888/notebooks/01-Python-Primer/exercises.ipynb#Method-1---Use-modulo-(%)-operator---Not-accepted-as-a-solution-for-this-problem\" data-toc-modified-id=\"Method-1---Use-modulo-(%)-operator---Not-accepted-as-a-solution-for-this-problem-2.1\"><span class=\"toc-item-num\">2.1&nbsp;&nbsp;</span>Method 1 - Use modulo (%) operator - Not accepted as a solution for this problem</a></span></li><li><span><a href=\"http://localhost:8888/notebooks/01-Python-Primer/exercises.ipynb#Method-2---Use-binary-operator\" data-toc-modified-id=\"Method-2---Use-binary-operator-2.2\"><span class=\"toc-item-num\">2.2&nbsp;&nbsp;</span>Method 2 - Use binary operator</a></span></li></ul></li><li><span><a href=\"http://localhost:8888/notebooks/01-Python-Primer/exercises.ipynb#Problem-3\" data-toc-modified-id=\"Problem-3-3\"><span class=\"toc-item-num\">3&nbsp;&nbsp;</span>Problem 3</a></span></li><li><span><a href=\"http://localhost:8888/notebooks/01-Python-Primer/exercises.ipynb#Problem-4\" data-toc-modified-id=\"Problem-4-4\"><span class=\"toc-item-num\">4&nbsp;&nbsp;</span>Problem 4</a></span></li><li><span><a href=\"http://localhost:8888/notebooks/01-Python-Primer/exercises.ipynb#Problem-5\" data-toc-modified-id=\"Problem-5-5\"><span class=\"toc-item-num\">5&nbsp;&nbsp;</span>Problem 5</a></span></li></ul></div>"
   ]
  },
  {
   "cell_type": "markdown",
   "metadata": {
    "heading_collapsed": true
   },
   "source": [
    "# Problem 1\n"
   ]
  },
  {
   "cell_type": "markdown",
   "metadata": {
    "hidden": true
   },
   "source": [
    "** Write a short Python function, is multiple(n, m), that takes two integer\n",
    "values and returns True if n is a multiple of m, that is, n = mi for some\n",
    "integer i, and False otherwise.**"
   ]
  },
  {
   "cell_type": "markdown",
   "metadata": {
    "heading_collapsed": true,
    "hidden": true
   },
   "source": [
    "## Method 1 - Assume that n is a positive interger and Repeatedly subtract m for n\n",
    "\n",
    "- Run a loop and subtract m from n in the loop while n is greater than 0. After the loop terminates, check whether n is 0. If n becomes 0 then n is a multiple of m, otherwise not."
   ]
  },
  {
   "cell_type": "code",
   "execution_count": 14,
   "metadata": {
    "ExecuteTime": {
     "end_time": "2017-11-15T05:01:33.282992Z",
     "start_time": "2017-11-15T05:01:33.275870Z"
    },
    "collapsed": true,
    "hidden": true
   },
   "outputs": [],
   "source": [
    "def is_multiple(n, m):\n",
    "    \n",
    "    while(n > 0):\n",
    "        n = n - m \n",
    "        print(n)\n",
    "        if n == 0:\n",
    "            return True\n",
    "        \n",
    "    return False"
   ]
  },
  {
   "cell_type": "code",
   "execution_count": 15,
   "metadata": {
    "ExecuteTime": {
     "end_time": "2017-11-15T05:01:34.942347Z",
     "start_time": "2017-11-15T05:01:34.934600Z"
    },
    "hidden": true
   },
   "outputs": [
    {
     "name": "stdout",
     "output_type": "stream",
     "text": [
      "24\n",
      "21\n",
      "18\n",
      "15\n",
      "12\n",
      "9\n",
      "6\n",
      "3\n",
      "0\n"
     ]
    },
    {
     "data": {
      "text/plain": [
       "True"
      ]
     },
     "execution_count": 15,
     "metadata": {},
     "output_type": "execute_result"
    }
   ],
   "source": [
    "is_multiple(27, 3)"
   ]
  },
  {
   "cell_type": "code",
   "execution_count": 16,
   "metadata": {
    "ExecuteTime": {
     "end_time": "2017-11-15T05:01:51.698045Z",
     "start_time": "2017-11-15T05:01:51.691490Z"
    },
    "hidden": true
   },
   "outputs": [
    {
     "name": "stdout",
     "output_type": "stream",
     "text": [
      "51\n",
      "45\n",
      "39\n",
      "33\n",
      "27\n",
      "21\n",
      "15\n",
      "9\n",
      "3\n",
      "-3\n"
     ]
    },
    {
     "data": {
      "text/plain": [
       "False"
      ]
     },
     "execution_count": 16,
     "metadata": {},
     "output_type": "execute_result"
    }
   ],
   "source": [
    "is_multiple(57, 6)"
   ]
  },
  {
   "cell_type": "markdown",
   "metadata": {
    "heading_collapsed": true
   },
   "source": [
    "# Problem 2"
   ]
  },
  {
   "cell_type": "markdown",
   "metadata": {
    "hidden": true
   },
   "source": [
    "** Write a short Python function, is even(k), that takes an integer value and\n",
    "returns True if k is even, and False otherwise. However, your function\n",
    "cannot use the multiplication, modulo, or division operators.**"
   ]
  },
  {
   "cell_type": "markdown",
   "metadata": {
    "ExecuteTime": {
     "end_time": "2017-11-15T05:13:47.414623Z",
     "start_time": "2017-11-15T05:13:47.411134Z"
    },
    "heading_collapsed": true,
    "hidden": true
   },
   "source": [
    "## Method 1 - Use modulo (%) operator - Not accepted as a solution for this problem"
   ]
  },
  {
   "cell_type": "code",
   "execution_count": 18,
   "metadata": {
    "ExecuteTime": {
     "end_time": "2017-11-15T05:07:50.218248Z",
     "start_time": "2017-11-15T05:07:50.198509Z"
    },
    "collapsed": true,
    "hidden": true
   },
   "outputs": [],
   "source": [
    "def is_even(k):\n",
    "    \n",
    "    if k % 2 == 0:\n",
    "        return True \n",
    "    \n",
    "    return False"
   ]
  },
  {
   "cell_type": "code",
   "execution_count": 19,
   "metadata": {
    "ExecuteTime": {
     "end_time": "2017-11-15T05:07:55.464578Z",
     "start_time": "2017-11-15T05:07:55.457006Z"
    },
    "hidden": true
   },
   "outputs": [
    {
     "data": {
      "text/plain": [
       "True"
      ]
     },
     "execution_count": 19,
     "metadata": {},
     "output_type": "execute_result"
    }
   ],
   "source": [
    "is_even(4)"
   ]
  },
  {
   "cell_type": "code",
   "execution_count": 32,
   "metadata": {
    "ExecuteTime": {
     "end_time": "2017-11-15T05:11:25.394070Z",
     "start_time": "2017-11-15T05:11:23.836474Z"
    },
    "hidden": true
   },
   "outputs": [
    {
     "name": "stdout",
     "output_type": "stream",
     "text": [
      "188 ns ± 4.6 ns per loop (mean ± std. dev. of 7 runs, 1000000 loops each)\n"
     ]
    }
   ],
   "source": [
    "%timeit is_even(544656599)"
   ]
  },
  {
   "cell_type": "code",
   "execution_count": 21,
   "metadata": {
    "ExecuteTime": {
     "end_time": "2017-11-15T05:08:10.042429Z",
     "start_time": "2017-11-15T05:08:10.037789Z"
    },
    "hidden": true
   },
   "outputs": [
    {
     "data": {
      "text/plain": [
       "True"
      ]
     },
     "execution_count": 21,
     "metadata": {},
     "output_type": "execute_result"
    }
   ],
   "source": [
    "is_even(0)"
   ]
  },
  {
   "cell_type": "code",
   "execution_count": 22,
   "metadata": {
    "ExecuteTime": {
     "end_time": "2017-11-15T05:08:18.112670Z",
     "start_time": "2017-11-15T05:08:18.107962Z"
    },
    "hidden": true
   },
   "outputs": [
    {
     "data": {
      "text/plain": [
       "False"
      ]
     },
     "execution_count": 22,
     "metadata": {},
     "output_type": "execute_result"
    }
   ],
   "source": [
    "is_even(555)"
   ]
  },
  {
   "cell_type": "markdown",
   "metadata": {
    "heading_collapsed": true,
    "hidden": true
   },
   "source": [
    "## Method 2 - Use binary operator"
   ]
  },
  {
   "cell_type": "code",
   "execution_count": 30,
   "metadata": {
    "ExecuteTime": {
     "end_time": "2017-11-15T05:10:38.678203Z",
     "start_time": "2017-11-15T05:10:38.672086Z"
    },
    "collapsed": true,
    "hidden": true
   },
   "outputs": [],
   "source": [
    "def is_even(k):\n",
    "    if k & 1 == 0:\n",
    "        return True\n",
    "    return False\n",
    "        "
   ]
  },
  {
   "cell_type": "code",
   "execution_count": 31,
   "metadata": {
    "ExecuteTime": {
     "end_time": "2017-11-15T05:11:00.465935Z",
     "start_time": "2017-11-15T05:10:58.916607Z"
    },
    "hidden": true
   },
   "outputs": [
    {
     "name": "stdout",
     "output_type": "stream",
     "text": [
      "187 ns ± 4.72 ns per loop (mean ± std. dev. of 7 runs, 1000000 loops each)\n"
     ]
    }
   ],
   "source": [
    "%timeit is_even(544656599)"
   ]
  },
  {
   "cell_type": "markdown",
   "metadata": {
    "hidden": true
   },
   "source": [
    "the modulo version is guaranteed by the standard to work whether the integer is positive, negative or zero, regardless of the implementation's representation of signed integers. The bitwise-and version is not."
   ]
  },
  {
   "cell_type": "markdown",
   "metadata": {
    "heading_collapsed": true
   },
   "source": [
    "# Problem 3"
   ]
  },
  {
   "cell_type": "markdown",
   "metadata": {
    "hidden": true
   },
   "source": [
    "** Write a short Python function, minmax(data), that takes a sequence of\n",
    "one or more numbers, and returns the smallest and largest numbers, in the\n",
    "form of a tuple of length two. Do not use the built-in functions min or\n",
    "max in implementing your solution.**"
   ]
  },
  {
   "cell_type": "code",
   "execution_count": 34,
   "metadata": {
    "ExecuteTime": {
     "end_time": "2017-11-15T05:18:17.086536Z",
     "start_time": "2017-11-15T05:18:17.080130Z"
    },
    "collapsed": true,
    "hidden": true
   },
   "outputs": [],
   "source": [
    "def minmax(data):\n",
    "    sorted_data = sorted(data)\n",
    "    minimum = sorted_data[0]\n",
    "    maximum = sorted_data[-1]\n",
    "    return minimum, maximum"
   ]
  },
  {
   "cell_type": "code",
   "execution_count": 35,
   "metadata": {
    "ExecuteTime": {
     "end_time": "2017-11-15T05:19:00.817136Z",
     "start_time": "2017-11-15T05:19:00.814131Z"
    },
    "collapsed": true,
    "hidden": true
   },
   "outputs": [],
   "source": [
    "data = [15, 48, 47, 7, 48, 6958, 4]"
   ]
  },
  {
   "cell_type": "code",
   "execution_count": 49,
   "metadata": {
    "ExecuteTime": {
     "end_time": "2017-11-15T05:22:52.805706Z",
     "start_time": "2017-11-15T05:22:45.911283Z"
    },
    "hidden": true
   },
   "outputs": [
    {
     "name": "stdout",
     "output_type": "stream",
     "text": [
      "845 ns ± 17.2 ns per loop (mean ± std. dev. of 7 runs, 1000000 loops each)\n"
     ]
    }
   ],
   "source": [
    "%timeit minmax(data)"
   ]
  },
  {
   "cell_type": "code",
   "execution_count": 37,
   "metadata": {
    "ExecuteTime": {
     "end_time": "2017-11-15T05:19:46.970160Z",
     "start_time": "2017-11-15T05:19:45.494687Z"
    },
    "collapsed": true,
    "hidden": true
   },
   "outputs": [],
   "source": [
    "import numpy as np "
   ]
  },
  {
   "cell_type": "code",
   "execution_count": 42,
   "metadata": {
    "ExecuteTime": {
     "end_time": "2017-11-15T05:21:18.202183Z",
     "start_time": "2017-11-15T05:21:18.198785Z"
    },
    "hidden": true
   },
   "outputs": [],
   "source": [
    "a = np.random.randint(4, 48984, size=2000)"
   ]
  },
  {
   "cell_type": "code",
   "execution_count": 45,
   "metadata": {
    "ExecuteTime": {
     "end_time": "2017-11-15T05:21:34.611416Z",
     "start_time": "2017-11-15T05:21:34.605678Z"
    },
    "hidden": true
   },
   "outputs": [
    {
     "data": {
      "text/plain": [
       "32"
      ]
     },
     "execution_count": 45,
     "metadata": {},
     "output_type": "execute_result"
    }
   ],
   "source": [
    "a.min()"
   ]
  },
  {
   "cell_type": "code",
   "execution_count": 46,
   "metadata": {
    "ExecuteTime": {
     "end_time": "2017-11-15T05:21:41.065944Z",
     "start_time": "2017-11-15T05:21:41.061472Z"
    },
    "hidden": true
   },
   "outputs": [
    {
     "data": {
      "text/plain": [
       "48973"
      ]
     },
     "execution_count": 46,
     "metadata": {},
     "output_type": "execute_result"
    }
   ],
   "source": [
    "a.max()"
   ]
  },
  {
   "cell_type": "code",
   "execution_count": 48,
   "metadata": {
    "ExecuteTime": {
     "end_time": "2017-11-15T05:22:28.666649Z",
     "start_time": "2017-11-15T05:22:22.611001Z"
    },
    "hidden": true
   },
   "outputs": [
    {
     "name": "stdout",
     "output_type": "stream",
     "text": [
      "743 µs ± 1.57 µs per loop (mean ± std. dev. of 7 runs, 1000 loops each)\n"
     ]
    }
   ],
   "source": [
    "%timeit minmax(a)"
   ]
  },
  {
   "cell_type": "markdown",
   "metadata": {
    "heading_collapsed": true
   },
   "source": [
    "# Problem 4"
   ]
  },
  {
   "cell_type": "markdown",
   "metadata": {
    "hidden": true
   },
   "source": [
    "** Write a short Python function that takes a positive integer n and returns\n",
    "the sum of the squares of all the positive integers smaller than n.**"
   ]
  },
  {
   "cell_type": "code",
   "execution_count": 56,
   "metadata": {
    "ExecuteTime": {
     "end_time": "2017-11-15T05:28:46.081107Z",
     "start_time": "2017-11-15T05:28:46.072670Z"
    },
    "collapsed": true,
    "hidden": true
   },
   "outputs": [],
   "source": [
    "def sum_squares(n):\n",
    "    total_sum = 0.0\n",
    "    \n",
    "    for num in range(1, n):\n",
    "        total_sum += num \n",
    "        \n",
    "    return total_sum"
   ]
  },
  {
   "cell_type": "code",
   "execution_count": 82,
   "metadata": {
    "ExecuteTime": {
     "end_time": "2017-11-15T05:34:08.148039Z",
     "start_time": "2017-11-15T05:34:03.435654Z"
    },
    "hidden": true
   },
   "outputs": [
    {
     "name": "stdout",
     "output_type": "stream",
     "text": [
      "582 ms ± 4.48 ms per loop (mean ± std. dev. of 7 runs, 1 loop each)\n"
     ]
    }
   ],
   "source": [
    "%%timeit \n",
    "tot = sum_squares(10000000)\n"
   ]
  },
  {
   "cell_type": "code",
   "execution_count": 83,
   "metadata": {
    "ExecuteTime": {
     "end_time": "2017-11-15T05:34:08.154658Z",
     "start_time": "2017-11-15T05:34:08.150703Z"
    },
    "hidden": true
   },
   "outputs": [
    {
     "data": {
      "text/plain": [
       "499999500000.0"
      ]
     },
     "execution_count": 83,
     "metadata": {},
     "output_type": "execute_result"
    }
   ],
   "source": [
    "tot"
   ]
  },
  {
   "cell_type": "markdown",
   "metadata": {
    "heading_collapsed": true
   },
   "source": [
    "# Problem 5"
   ]
  },
  {
   "cell_type": "markdown",
   "metadata": {
    "hidden": true
   },
   "source": [
    "** Give a single command that computes the sum from Exercise R-1.4, relying on Python’s comprehension syntax and the built-in sum function.**"
   ]
  },
  {
   "cell_type": "code",
   "execution_count": 80,
   "metadata": {
    "ExecuteTime": {
     "end_time": "2017-11-15T05:33:58.678136Z",
     "start_time": "2017-11-15T05:33:53.828023Z"
    },
    "hidden": true
   },
   "outputs": [
    {
     "name": "stdout",
     "output_type": "stream",
     "text": [
      "602 ms ± 14.2 ms per loop (mean ± std. dev. of 7 runs, 1 loop each)\n"
     ]
    }
   ],
   "source": [
    "%%timeit \n",
    "tot = sum([num for num in range(1, 10000000)])"
   ]
  },
  {
   "cell_type": "code",
   "execution_count": 81,
   "metadata": {
    "ExecuteTime": {
     "end_time": "2017-11-15T05:33:58.684252Z",
     "start_time": "2017-11-15T05:33:58.680151Z"
    },
    "hidden": true
   },
   "outputs": [
    {
     "data": {
      "text/plain": [
       "499999500000.0"
      ]
     },
     "execution_count": 81,
     "metadata": {},
     "output_type": "execute_result"
    }
   ],
   "source": [
    "tot"
   ]
  },
  {
   "cell_type": "code",
   "execution_count": null,
   "metadata": {
    "collapsed": true,
    "hidden": true
   },
   "outputs": [],
   "source": []
  }
 ],
 "metadata": {
  "kernelspec": {
   "display_name": "Python 3",
   "language": "python",
   "name": "python3"
  },
  "language_info": {
   "codemirror_mode": {
    "name": "ipython",
    "version": 3
   },
   "file_extension": ".py",
   "mimetype": "text/x-python",
   "name": "python",
   "nbconvert_exporter": "python",
   "pygments_lexer": "ipython3",
   "version": "3.6.2"
  },
  "toc": {
   "nav_menu": {},
   "number_sections": true,
   "sideBar": true,
   "skip_h1_title": false,
   "toc_cell": true,
   "toc_position": {},
   "toc_section_display": "block",
   "toc_window_display": false
  }
 },
 "nbformat": 4,
 "nbformat_minor": 2
}
