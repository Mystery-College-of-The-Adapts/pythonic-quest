{
 "cells": [
  {
   "cell_type": "markdown",
   "metadata": {
    "toc": "true"
   },
   "source": [
    " # Table of Contents\n",
    "<div class=\"toc\" style=\"margin-top: 1em;\"><ul class=\"toc-item\" id=\"toc-level0\"><li><span><a href=\"http://localhost:8888/notebooks/01-Python-Primer/python-primer.ipynb#Python-Overview\" data-toc-modified-id=\"Python-Overview-1\"><span class=\"toc-item-num\">1&nbsp;&nbsp;</span>Python Overview</a></span><ul class=\"toc-item\"><li><span><a href=\"http://localhost:8888/notebooks/01-Python-Primer/python-primer.ipynb#The-Python-Interpreter\" data-toc-modified-id=\"The-Python-Interpreter-1.1\"><span class=\"toc-item-num\">1.1&nbsp;&nbsp;</span>The Python Interpreter</a></span></li><li><span><a href=\"http://localhost:8888/notebooks/01-Python-Primer/python-primer.ipynb#Preview-of-a-Python-Program\" data-toc-modified-id=\"Preview-of-a-Python-Program-1.2\"><span class=\"toc-item-num\">1.2&nbsp;&nbsp;</span>Preview of a Python Program</a></span></li></ul></li><li><span><a href=\"http://localhost:8888/notebooks/01-Python-Primer/python-primer.ipynb#Objects-in-Python\" data-toc-modified-id=\"Objects-in-Python-2\"><span class=\"toc-item-num\">2&nbsp;&nbsp;</span>Objects in Python</a></span><ul class=\"toc-item\"><li><span><a href=\"http://localhost:8888/notebooks/01-Python-Primer/python-primer.ipynb#Identifiers,-Objects-and-the-Assignment-Statement\" data-toc-modified-id=\"Identifiers,-Objects-and-the-Assignment-Statement-2.1\"><span class=\"toc-item-num\">2.1&nbsp;&nbsp;</span>Identifiers, Objects and the Assignment Statement</a></span></li><li><span><a href=\"http://localhost:8888/notebooks/01-Python-Primer/python-primer.ipynb#Creating-and-Using-Objects\" data-toc-modified-id=\"Creating-and-Using-Objects-2.2\"><span class=\"toc-item-num\">2.2&nbsp;&nbsp;</span>Creating and Using Objects</a></span><ul class=\"toc-item\"><li><span><a href=\"http://localhost:8888/notebooks/01-Python-Primer/python-primer.ipynb#Instantiation\" data-toc-modified-id=\"Instantiation-2.2.1\"><span class=\"toc-item-num\">2.2.1&nbsp;&nbsp;</span>Instantiation</a></span></li><li><span><a href=\"http://localhost:8888/notebooks/01-Python-Primer/python-primer.ipynb#Calling-Methods\" data-toc-modified-id=\"Calling-Methods-2.2.2\"><span class=\"toc-item-num\">2.2.2&nbsp;&nbsp;</span>Calling Methods</a></span></li></ul></li><li><span><a href=\"http://localhost:8888/notebooks/01-Python-Primer/python-primer.ipynb#Python's-Built-In-Classes\" data-toc-modified-id=\"Python's-Built-In-Classes-2.3\"><span class=\"toc-item-num\">2.3&nbsp;&nbsp;</span>Python's Built-In Classes</a></span><ul class=\"toc-item\"><li><span><a href=\"http://localhost:8888/notebooks/01-Python-Primer/python-primer.ipynb#The-bool-Class\" data-toc-modified-id=\"The-bool-Class-2.3.1\"><span class=\"toc-item-num\">2.3.1&nbsp;&nbsp;</span>The bool Class</a></span></li><li><span><a href=\"http://localhost:8888/notebooks/01-Python-Primer/python-primer.ipynb#The-int-Class\" data-toc-modified-id=\"The-int-Class-2.3.2\"><span class=\"toc-item-num\">2.3.2&nbsp;&nbsp;</span>The int Class</a></span></li><li><span><a href=\"http://localhost:8888/notebooks/01-Python-Primer/python-primer.ipynb#The-float-class\" data-toc-modified-id=\"The-float-class-2.3.3\"><span class=\"toc-item-num\">2.3.3&nbsp;&nbsp;</span>The float class</a></span></li><li><span><a href=\"http://localhost:8888/notebooks/01-Python-Primer/python-primer.ipynb#Sequence-Types:-The-list,-tuple,-and-str-classes\" data-toc-modified-id=\"Sequence-Types:-The-list,-tuple,-and-str-classes-2.3.4\"><span class=\"toc-item-num\">2.3.4&nbsp;&nbsp;</span>Sequence Types: The list, tuple, and str classes</a></span><ul class=\"toc-item\"><li><span><a href=\"http://localhost:8888/notebooks/01-Python-Primer/python-primer.ipynb#The-list-Class\" data-toc-modified-id=\"The-list-Class-2.3.4.1\"><span class=\"toc-item-num\">2.3.4.1&nbsp;&nbsp;</span>The list Class</a></span></li><li><span><a href=\"http://localhost:8888/notebooks/01-Python-Primer/python-primer.ipynb#The-tuple-Class\" data-toc-modified-id=\"The-tuple-Class-2.3.4.2\"><span class=\"toc-item-num\">2.3.4.2&nbsp;&nbsp;</span>The tuple Class</a></span></li><li><span><a href=\"http://localhost:8888/notebooks/01-Python-Primer/python-primer.ipynb#Str-Class\" data-toc-modified-id=\"Str-Class-2.3.4.3\"><span class=\"toc-item-num\">2.3.4.3&nbsp;&nbsp;</span>Str Class</a></span></li></ul></li><li><span><a href=\"http://localhost:8888/notebooks/01-Python-Primer/python-primer.ipynb#The-set-and-frozenset-Classes\" data-toc-modified-id=\"The-set-and-frozenset-Classes-2.3.5\"><span class=\"toc-item-num\">2.3.5&nbsp;&nbsp;</span>The set and frozenset Classes</a></span></li></ul></li><li><span><a href=\"http://localhost:8888/notebooks/01-Python-Primer/python-primer.ipynb#Functions\" data-toc-modified-id=\"Functions-2.4\"><span class=\"toc-item-num\">2.4&nbsp;&nbsp;</span>Functions</a></span><ul class=\"toc-item\"><li><span><a href=\"http://localhost:8888/notebooks/01-Python-Primer/python-primer.ipynb#Information-Passing\" data-toc-modified-id=\"Information-Passing-2.4.1\"><span class=\"toc-item-num\">2.4.1&nbsp;&nbsp;</span>Information Passing</a></span></li></ul></li><li><span><a href=\"http://localhost:8888/notebooks/01-Python-Primer/python-primer.ipynb#Exception-Handling\" data-toc-modified-id=\"Exception-Handling-2.5\"><span class=\"toc-item-num\">2.5&nbsp;&nbsp;</span>Exception Handling</a></span><ul class=\"toc-item\"><li><span><a href=\"http://localhost:8888/notebooks/01-Python-Primer/python-primer.ipynb#Raising-an-Exception\" data-toc-modified-id=\"Raising-an-Exception-2.5.1\"><span class=\"toc-item-num\">2.5.1&nbsp;&nbsp;</span>Raising an Exception</a></span></li></ul></li><li><span><a href=\"http://localhost:8888/notebooks/01-Python-Primer/python-primer.ipynb#Iterators-and-Generators\" data-toc-modified-id=\"Iterators-and-Generators-2.6\"><span class=\"toc-item-num\">2.6&nbsp;&nbsp;</span>Iterators and Generators</a></span></li></ul></li></ul></div>"
   ]
  },
  {
   "cell_type": "markdown",
   "metadata": {},
   "source": [
    "# Python Overview"
   ]
  },
  {
   "cell_type": "markdown",
   "metadata": {},
   "source": [
    "## The Python Interpreter"
   ]
  },
  {
   "cell_type": "markdown",
   "metadata": {},
   "source": [
    "- Python is formally an **interpreted** language. \n",
    "- Commands are executed through a piece of software known as the **Python interpreter**. \n",
    "\n",
    "The interpreter:\n",
    "\n",
    "1. receives a command\n",
    "2. evaluates that command\n",
    "3. reports the result of the command"
   ]
  },
  {
   "cell_type": "markdown",
   "metadata": {},
   "source": [
    "## Preview of a Python Program"
   ]
  },
  {
   "cell_type": "markdown",
   "metadata": {},
   "source": [
    "# Objects in Python"
   ]
  },
  {
   "cell_type": "markdown",
   "metadata": {},
   "source": [
    "- Python is an object oriented language\n",
    "- Classes from the basis for all data types."
   ]
  },
  {
   "cell_type": "markdown",
   "metadata": {},
   "source": [
    "## Identifiers, Objects and the Assignment Statement"
   ]
  },
  {
   "cell_type": "code",
   "execution_count": 1,
   "metadata": {
    "ExecuteTime": {
     "end_time": "2017-11-09T00:03:45.788704Z",
     "start_time": "2017-11-09T00:03:45.785643Z"
    },
    "collapsed": true
   },
   "outputs": [],
   "source": [
    "temperature = 98.6"
   ]
  },
  {
   "cell_type": "markdown",
   "metadata": {},
   "source": [
    "This command establishes temperature as an identifier aka name and then associates with the object.\n",
    "![](https://i.imgur.com/DLphzM1.png)"
   ]
  },
  {
   "cell_type": "markdown",
   "metadata": {},
   "source": [
    "Identifiers:\n",
    "\n",
    "- are **case-sensitive**\n",
    "- can be composed of almost any combination of letters, numerals, and underscore characters\n",
    "- cannot begin with a numeral\n",
    "- cannot be from the reserved list\n",
    "![](https://i.imgur.com/0YXcYbZ.png)\n"
   ]
  },
  {
   "cell_type": "markdown",
   "metadata": {},
   "source": [
    "- The semantics of a Python identifier is most similar to a reference variable in Java or a pointer in C++.\n",
    "\n",
    "- Each identifier is implicitly associated with **memory address** of the object to which it refers. \n",
    "\n",
    "- A Python identifier may be assigned to a special object name **None**, serving a similar purpose to a null reference in Java or C++.\n",
    "\n",
    "- Unlike Java and C++, Python i s a **dynamically typed** language.\n",
    "\n",
    "- An identifier can be associated with any type of object.\n",
    "\n",
    "- Although an identifier has no declared type, the object to which it refers has a definite type. "
   ]
  },
  {
   "cell_type": "markdown",
   "metadata": {},
   "source": [
    "## Creating and Using Objects"
   ]
  },
  {
   "cell_type": "markdown",
   "metadata": {},
   "source": [
    "### Instantiation"
   ]
  },
  {
   "cell_type": "markdown",
   "metadata": {},
   "source": [
    "- The process of creating a new instance of a class is known as an **instantiation**.\n",
    "\n",
    "- In general, the syntax for instantiating an object is to invoke the **constructor** of a class. \n",
    "\n",
    "- Many of Python's built-in classes support what is known as **literal** form for designating new instances.\n",
    "\n",
    "- For instance, the command ``` temperature=98.6``` results in the creation of a new instance of the **float** class, the term 98.6 in that expression is a literal form. \n",
    "\n",
    "- Another way to indirectly create a new instance of a class is to call a function that creates and returns such an instance. For example, ```sorted()```."
   ]
  },
  {
   "cell_type": "markdown",
   "metadata": {},
   "source": [
    "### Calling Methods"
   ]
  },
  {
   "cell_type": "markdown",
   "metadata": {},
   "source": [
    "- Python supports traditional functions such as ```sorted(data)``` in whihc case ```data``` is a parameter sent to the function.\n",
    "\n",
    "- Python's classes may also define one or more **methods** aka **member functions** which are invoked on a specific instance of class using the dot operator. For instance, ```data.sort()```"
   ]
  },
  {
   "cell_type": "markdown",
   "metadata": {},
   "source": [
    "- When using a method of a class, it is important to understand its behavior. Some methods return information about the state of an object, but do not change that state. These are known as **accessors**.\n",
    "\n",
    "- Other methods do change the state of an object. These are known as **mutators** or **update methods**."
   ]
  },
  {
   "cell_type": "markdown",
   "metadata": {},
   "source": [
    "## Python's Built-In Classes"
   ]
  },
  {
   "cell_type": "markdown",
   "metadata": {},
   "source": [
    "![](https://i.imgur.com/Fz99RcT.png)"
   ]
  },
  {
   "cell_type": "markdown",
   "metadata": {},
   "source": [
    "### The bool Class"
   ]
  },
  {
   "cell_type": "markdown",
   "metadata": {},
   "source": [
    "- The ```bool``` class is used to manipulated logical (Boolean) values.\n",
    "- The only two instances of that class are expresssed as the literals **True** and **False**.\n",
    "- The default constructor, ```bool()``` returns **False**"
   ]
  },
  {
   "cell_type": "code",
   "execution_count": 2,
   "metadata": {
    "ExecuteTime": {
     "end_time": "2017-11-09T00:43:58.332140Z",
     "start_time": "2017-11-09T00:43:58.312951Z"
    }
   },
   "outputs": [
    {
     "data": {
      "text/plain": [
       "False"
      ]
     },
     "execution_count": 2,
     "metadata": {},
     "output_type": "execute_result"
    }
   ],
   "source": [
    "a = bool()\n",
    "a"
   ]
  },
  {
   "cell_type": "markdown",
   "metadata": {},
   "source": [
    "### The int Class\n"
   ]
  },
  {
   "cell_type": "markdown",
   "metadata": {},
   "source": [
    "- The **int** and **float** classes are the primary numeric types in Python. \n",
    "\n",
    "- The **int** class is designed to represent integer values with arbitrary magnitude.\n",
    "\n",
    "- Unlike Java and C++ which suport different integral types with different precisions(e.g., int, short, long), Python automatically chooses the internal representation for an integer based upon the magnitude of its value. \n",
    "\n",
    "- The integer contructor, ```int()```, returns value 0 by default. \n",
    "\n",
    "- But this constructor can be used to construct an integer value based upon an existing value of another type. For example:"
   ]
  },
  {
   "cell_type": "code",
   "execution_count": 3,
   "metadata": {
    "ExecuteTime": {
     "end_time": "2017-11-09T00:49:37.683033Z",
     "start_time": "2017-11-09T00:49:37.678706Z"
    }
   },
   "outputs": [
    {
     "data": {
      "text/plain": [
       "3"
      ]
     },
     "execution_count": 3,
     "metadata": {},
     "output_type": "execute_result"
    }
   ],
   "source": [
    "int(3.9999)"
   ]
  },
  {
   "cell_type": "code",
   "execution_count": 4,
   "metadata": {
    "ExecuteTime": {
     "end_time": "2017-11-09T00:49:44.165950Z",
     "start_time": "2017-11-09T00:49:44.161619Z"
    }
   },
   "outputs": [
    {
     "data": {
      "text/plain": [
       "-5"
      ]
     },
     "execution_count": 4,
     "metadata": {},
     "output_type": "execute_result"
    }
   ],
   "source": [
    "int(-5.669)"
   ]
  },
  {
   "cell_type": "code",
   "execution_count": 5,
   "metadata": {
    "ExecuteTime": {
     "end_time": "2017-11-09T00:49:51.613387Z",
     "start_time": "2017-11-09T00:49:51.608591Z"
    }
   },
   "outputs": [
    {
     "data": {
      "text/plain": [
       "1569"
      ]
     },
     "execution_count": 5,
     "metadata": {},
     "output_type": "execute_result"
    }
   ],
   "source": [
    "int('1569')"
   ]
  },
  {
   "cell_type": "code",
   "execution_count": 8,
   "metadata": {
    "ExecuteTime": {
     "end_time": "2017-11-09T00:50:50.372333Z",
     "start_time": "2017-11-09T00:50:50.364257Z"
    }
   },
   "outputs": [
    {
     "ename": "ValueError",
     "evalue": "invalid literal for int() with base 10: '7f'",
     "output_type": "error",
     "traceback": [
      "\u001b[0;31m---------------------------------------------------------------------------\u001b[0m",
      "\u001b[0;31mValueError\u001b[0m                                Traceback (most recent call last)",
      "\u001b[0;32m<ipython-input-8-a1f16a8e8c1e>\u001b[0m in \u001b[0;36m<module>\u001b[0;34m()\u001b[0m\n\u001b[0;32m----> 1\u001b[0;31m \u001b[0mint\u001b[0m\u001b[0;34m(\u001b[0m\u001b[0;34m'7f'\u001b[0m\u001b[0;34m)\u001b[0m\u001b[0;34m\u001b[0m\u001b[0m\n\u001b[0m",
      "\u001b[0;31mValueError\u001b[0m: invalid literal for int() with base 10: '7f'"
     ]
    }
   ],
   "source": [
    "int('7f')"
   ]
  },
  {
   "cell_type": "code",
   "execution_count": 7,
   "metadata": {
    "ExecuteTime": {
     "end_time": "2017-11-09T00:50:34.327330Z",
     "start_time": "2017-11-09T00:50:34.322842Z"
    }
   },
   "outputs": [
    {
     "data": {
      "text/plain": [
       "127"
      ]
     },
     "execution_count": 7,
     "metadata": {},
     "output_type": "execute_result"
    }
   ],
   "source": [
    "int('7f', 16)"
   ]
  },
  {
   "cell_type": "markdown",
   "metadata": {},
   "source": [
    "### The float class"
   ]
  },
  {
   "cell_type": "markdown",
   "metadata": {},
   "source": [
    "- **The float** class is the sole floating-point type in Python, using a fixed-precision representation.\n",
    "\n",
    "- Its precision is more akin to a double in Java or C++, rather than those languages's float type."
   ]
  },
  {
   "cell_type": "code",
   "execution_count": 9,
   "metadata": {
    "ExecuteTime": {
     "end_time": "2017-11-09T00:53:10.909887Z",
     "start_time": "2017-11-09T00:53:10.906039Z"
    },
    "collapsed": true
   },
   "outputs": [],
   "source": [
    "a = 2."
   ]
  },
  {
   "cell_type": "code",
   "execution_count": 10,
   "metadata": {
    "ExecuteTime": {
     "end_time": "2017-11-09T00:53:14.545129Z",
     "start_time": "2017-11-09T00:53:14.540907Z"
    }
   },
   "outputs": [
    {
     "data": {
      "text/plain": [
       "float"
      ]
     },
     "execution_count": 10,
     "metadata": {},
     "output_type": "execute_result"
    }
   ],
   "source": [
    "type(a)"
   ]
  },
  {
   "cell_type": "code",
   "execution_count": 11,
   "metadata": {
    "ExecuteTime": {
     "end_time": "2017-11-09T00:53:30.017863Z",
     "start_time": "2017-11-09T00:53:30.014925Z"
    },
    "collapsed": true
   },
   "outputs": [],
   "source": [
    "b = 1.00089e23"
   ]
  },
  {
   "cell_type": "code",
   "execution_count": 12,
   "metadata": {
    "ExecuteTime": {
     "end_time": "2017-11-09T00:53:33.225448Z",
     "start_time": "2017-11-09T00:53:33.221523Z"
    }
   },
   "outputs": [
    {
     "data": {
      "text/plain": [
       "float"
      ]
     },
     "execution_count": 12,
     "metadata": {},
     "output_type": "execute_result"
    }
   ],
   "source": [
    "type(b)"
   ]
  },
  {
   "cell_type": "code",
   "execution_count": 13,
   "metadata": {
    "ExecuteTime": {
     "end_time": "2017-11-09T00:54:01.513947Z",
     "start_time": "2017-11-09T00:54:01.508391Z"
    }
   },
   "outputs": [
    {
     "data": {
      "text/plain": [
       "2.0"
      ]
     },
     "execution_count": 13,
     "metadata": {},
     "output_type": "execute_result"
    }
   ],
   "source": [
    "float(2)"
   ]
  },
  {
   "cell_type": "code",
   "execution_count": 15,
   "metadata": {
    "ExecuteTime": {
     "end_time": "2017-11-09T00:54:29.017691Z",
     "start_time": "2017-11-09T00:54:29.013544Z"
    }
   },
   "outputs": [
    {
     "data": {
      "text/plain": [
       "156.5"
      ]
     },
     "execution_count": 15,
     "metadata": {},
     "output_type": "execute_result"
    }
   ],
   "source": [
    "float('156.5')"
   ]
  },
  {
   "cell_type": "markdown",
   "metadata": {},
   "source": [
    "### Sequence Types: The list, tuple, and str classes"
   ]
  },
  {
   "cell_type": "markdown",
   "metadata": {},
   "source": [
    "- These are **sequence** types in Python, representing a collection of values in which the order is significant. "
   ]
  },
  {
   "cell_type": "markdown",
   "metadata": {},
   "source": [
    "#### The list Class"
   ]
  },
  {
   "cell_type": "markdown",
   "metadata": {},
   "source": [
    "- A **list** instance stores a sequence of objects. \n",
    "- A list is a **referential** structure, as it technically stores a sequence of **references** to its elements\n",
    "- Elements of a list may be arbitrary objects (including the None object). \n",
    "- List are **array-based** sequences and are **zero-indexed**.\n",
    "\n",
    "- The ```list()``` constructor accepts any parameter that is of an **iterable** type. "
   ]
  },
  {
   "cell_type": "markdown",
   "metadata": {},
   "source": [
    "#### The tuple Class"
   ]
  },
  {
   "cell_type": "markdown",
   "metadata": {},
   "source": [
    "- provides an immutable version of a sequence, and therefore its instances have an internal representation that may be more streamlined than that of a list.\n",
    "\n",
    "- There is one important subtlety. To express a tuple of length one as a literal, a comma must be placed after the element, but within the parantheses."
   ]
  },
  {
   "cell_type": "code",
   "execution_count": 16,
   "metadata": {
    "ExecuteTime": {
     "end_time": "2017-11-09T01:27:37.090005Z",
     "start_time": "2017-11-09T01:27:37.086802Z"
    },
    "collapsed": true
   },
   "outputs": [],
   "source": [
    "a = (17, 18)"
   ]
  },
  {
   "cell_type": "code",
   "execution_count": 17,
   "metadata": {
    "ExecuteTime": {
     "end_time": "2017-11-09T01:27:40.172679Z",
     "start_time": "2017-11-09T01:27:40.165542Z"
    }
   },
   "outputs": [
    {
     "data": {
      "text/plain": [
       "tuple"
      ]
     },
     "execution_count": 17,
     "metadata": {},
     "output_type": "execute_result"
    }
   ],
   "source": [
    "type(a)"
   ]
  },
  {
   "cell_type": "code",
   "execution_count": 18,
   "metadata": {
    "ExecuteTime": {
     "end_time": "2017-11-09T01:27:44.517026Z",
     "start_time": "2017-11-09T01:27:44.514023Z"
    },
    "collapsed": true
   },
   "outputs": [],
   "source": [
    "a = (17)"
   ]
  },
  {
   "cell_type": "code",
   "execution_count": 19,
   "metadata": {
    "ExecuteTime": {
     "end_time": "2017-11-09T01:27:48.943249Z",
     "start_time": "2017-11-09T01:27:48.939255Z"
    }
   },
   "outputs": [
    {
     "data": {
      "text/plain": [
       "int"
      ]
     },
     "execution_count": 19,
     "metadata": {},
     "output_type": "execute_result"
    }
   ],
   "source": [
    "type(a)"
   ]
  },
  {
   "cell_type": "code",
   "execution_count": 20,
   "metadata": {
    "ExecuteTime": {
     "end_time": "2017-11-09T01:27:57.681875Z",
     "start_time": "2017-11-09T01:27:57.677668Z"
    },
    "collapsed": true
   },
   "outputs": [],
   "source": [
    "a = (17, )"
   ]
  },
  {
   "cell_type": "code",
   "execution_count": 21,
   "metadata": {
    "ExecuteTime": {
     "end_time": "2017-11-09T01:28:00.494754Z",
     "start_time": "2017-11-09T01:28:00.489810Z"
    }
   },
   "outputs": [
    {
     "data": {
      "text/plain": [
       "tuple"
      ]
     },
     "execution_count": 21,
     "metadata": {},
     "output_type": "execute_result"
    }
   ],
   "source": [
    "type(a)"
   ]
  },
  {
   "cell_type": "markdown",
   "metadata": {},
   "source": [
    "#### Str Class"
   ]
  },
  {
   "cell_type": "code",
   "execution_count": 22,
   "metadata": {
    "ExecuteTime": {
     "end_time": "2017-11-09T01:29:18.999964Z",
     "start_time": "2017-11-09T01:29:18.996795Z"
    },
    "collapsed": true
   },
   "outputs": [],
   "source": [
    "a = 'hello'\n",
    "b = \"Hello\""
   ]
  },
  {
   "cell_type": "code",
   "execution_count": 23,
   "metadata": {
    "ExecuteTime": {
     "end_time": "2017-11-09T01:29:26.541196Z",
     "start_time": "2017-11-09T01:29:26.537328Z"
    }
   },
   "outputs": [
    {
     "data": {
      "text/plain": [
       "'HellO'"
      ]
     },
     "execution_count": 23,
     "metadata": {},
     "output_type": "execute_result"
    }
   ],
   "source": [
    "\"HellO\""
   ]
  },
  {
   "cell_type": "markdown",
   "metadata": {},
   "source": [
    "### The set and frozenset Classes"
   ]
  },
  {
   "cell_type": "markdown",
   "metadata": {},
   "source": [
    "## Functions"
   ]
  },
  {
   "cell_type": "code",
   "execution_count": 1,
   "metadata": {
    "ExecuteTime": {
     "end_time": "2017-11-15T03:17:40.946566Z",
     "start_time": "2017-11-15T03:17:40.941434Z"
    },
    "collapsed": true
   },
   "outputs": [],
   "source": [
    "def count(data, target):\n",
    "    n = 0\n",
    "    for item in data:\n",
    "        if item == target:\n",
    "            n += 1\n",
    "        return n "
   ]
  },
  {
   "cell_type": "markdown",
   "metadata": {},
   "source": [
    "- **def count(data, target)**: serves as the function's **signature**. "
   ]
  },
  {
   "cell_type": "markdown",
   "metadata": {},
   "source": [
    "### Information Passing"
   ]
  },
  {
   "cell_type": "markdown",
   "metadata": {},
   "source": [
    "- The identifiers used to describe the expected parameters are known as **formal parameters**.\n",
    "- The objects sent by the caller when invoking the function are the **actual parameters**.\n",
    "- Parameter passing in Python follows the semantics of the standard **assignment statement**. \n",
    "- When a function is invoked, each identifier that serves as a formal parameter is assigned, in the function's local scope, to the respective actual parameter that is provided by the caller of the function. \n",
    "- An advantage to Python's mechanism for passing information to and from a function is that the objects are not copied. This ensures that the invocation of a function is efficient, even in a case where a parameter or return value is a complex object."
   ]
  },
  {
   "cell_type": "markdown",
   "metadata": {},
   "source": [
    "## Exception Handling"
   ]
  },
  {
   "cell_type": "markdown",
   "metadata": {},
   "source": [
    "- Exceptions are unexpected events that occur during the exception of a program. \n",
    "- An exception might result from a logical error or an unanticipated situation.\n",
    "\n",
    "- In Python, **exceptions** aka **errors** are objects that are **raised** or (**thrown**) by code that encounters an unexpected circumstance\n",
    "\n"
   ]
  },
  {
   "cell_type": "markdown",
   "metadata": {},
   "source": [
    "**Common Exception Types**"
   ]
  },
  {
   "cell_type": "markdown",
   "metadata": {},
   "source": [
    "![](https://i.imgur.com/lgihXYZ.png)"
   ]
  },
  {
   "cell_type": "markdown",
   "metadata": {},
   "source": [
    "### Raising an Exception"
   ]
  },
  {
   "cell_type": "code",
   "execution_count": 2,
   "metadata": {
    "ExecuteTime": {
     "end_time": "2017-11-15T04:04:23.611130Z",
     "start_time": "2017-11-15T04:04:23.603932Z"
    },
    "collapsed": true
   },
   "outputs": [],
   "source": [
    "def sqrt(x):\n",
    "    if not isinstance(x, (int, float)):\n",
    "        raise TypeError('x must be numeric')\n",
    "        \n",
    "    elif x < 0:\n",
    "        raise ValueError('x cannot be negative')"
   ]
  },
  {
   "cell_type": "code",
   "execution_count": 3,
   "metadata": {
    "ExecuteTime": {
     "end_time": "2017-11-15T04:04:33.831300Z",
     "start_time": "2017-11-15T04:04:33.660332Z"
    }
   },
   "outputs": [
    {
     "ename": "TypeError",
     "evalue": "x must be numeric",
     "output_type": "error",
     "traceback": [
      "\u001b[0;31m---------------------------------------------------------------------------\u001b[0m",
      "\u001b[0;31mTypeError\u001b[0m                                 Traceback (most recent call last)",
      "\u001b[0;32m<ipython-input-3-1b4d0d582bf5>\u001b[0m in \u001b[0;36m<module>\u001b[0;34m()\u001b[0m\n\u001b[0;32m----> 1\u001b[0;31m \u001b[0msqrt\u001b[0m\u001b[0;34m(\u001b[0m\u001b[0;34m'8'\u001b[0m\u001b[0;34m)\u001b[0m\u001b[0;34m\u001b[0m\u001b[0m\n\u001b[0m",
      "\u001b[0;32m<ipython-input-2-642f067ec8bb>\u001b[0m in \u001b[0;36msqrt\u001b[0;34m(x)\u001b[0m\n\u001b[1;32m      1\u001b[0m \u001b[0;32mdef\u001b[0m \u001b[0msqrt\u001b[0m\u001b[0;34m(\u001b[0m\u001b[0mx\u001b[0m\u001b[0;34m)\u001b[0m\u001b[0;34m:\u001b[0m\u001b[0;34m\u001b[0m\u001b[0m\n\u001b[1;32m      2\u001b[0m     \u001b[0;32mif\u001b[0m \u001b[0;32mnot\u001b[0m \u001b[0misinstance\u001b[0m\u001b[0;34m(\u001b[0m\u001b[0mx\u001b[0m\u001b[0;34m,\u001b[0m \u001b[0;34m(\u001b[0m\u001b[0mint\u001b[0m\u001b[0;34m,\u001b[0m \u001b[0mfloat\u001b[0m\u001b[0;34m)\u001b[0m\u001b[0;34m)\u001b[0m\u001b[0;34m:\u001b[0m\u001b[0;34m\u001b[0m\u001b[0m\n\u001b[0;32m----> 3\u001b[0;31m         \u001b[0;32mraise\u001b[0m \u001b[0mTypeError\u001b[0m\u001b[0;34m(\u001b[0m\u001b[0;34m'x must be numeric'\u001b[0m\u001b[0;34m)\u001b[0m\u001b[0;34m\u001b[0m\u001b[0m\n\u001b[0m\u001b[1;32m      4\u001b[0m \u001b[0;34m\u001b[0m\u001b[0m\n\u001b[1;32m      5\u001b[0m     \u001b[0;32melif\u001b[0m \u001b[0mx\u001b[0m \u001b[0;34m<\u001b[0m \u001b[0;36m0\u001b[0m\u001b[0;34m:\u001b[0m\u001b[0;34m\u001b[0m\u001b[0m\n",
      "\u001b[0;31mTypeError\u001b[0m: x must be numeric"
     ]
    }
   ],
   "source": [
    "sqrt('8')"
   ]
  },
  {
   "cell_type": "code",
   "execution_count": 4,
   "metadata": {
    "ExecuteTime": {
     "end_time": "2017-11-15T04:04:46.057297Z",
     "start_time": "2017-11-15T04:04:46.045977Z"
    }
   },
   "outputs": [
    {
     "ename": "ValueError",
     "evalue": "x cannot be negative",
     "output_type": "error",
     "traceback": [
      "\u001b[0;31m---------------------------------------------------------------------------\u001b[0m",
      "\u001b[0;31mValueError\u001b[0m                                Traceback (most recent call last)",
      "\u001b[0;32m<ipython-input-4-6e2f4a99b0c4>\u001b[0m in \u001b[0;36m<module>\u001b[0;34m()\u001b[0m\n\u001b[0;32m----> 1\u001b[0;31m \u001b[0msqrt\u001b[0m\u001b[0;34m(\u001b[0m\u001b[0;34m-\u001b[0m\u001b[0;36m7\u001b[0m\u001b[0;34m)\u001b[0m\u001b[0;34m\u001b[0m\u001b[0m\n\u001b[0m",
      "\u001b[0;32m<ipython-input-2-642f067ec8bb>\u001b[0m in \u001b[0;36msqrt\u001b[0;34m(x)\u001b[0m\n\u001b[1;32m      4\u001b[0m \u001b[0;34m\u001b[0m\u001b[0m\n\u001b[1;32m      5\u001b[0m     \u001b[0;32melif\u001b[0m \u001b[0mx\u001b[0m \u001b[0;34m<\u001b[0m \u001b[0;36m0\u001b[0m\u001b[0;34m:\u001b[0m\u001b[0;34m\u001b[0m\u001b[0m\n\u001b[0;32m----> 6\u001b[0;31m         \u001b[0;32mraise\u001b[0m \u001b[0mValueError\u001b[0m\u001b[0;34m(\u001b[0m\u001b[0;34m'x cannot be negative'\u001b[0m\u001b[0;34m)\u001b[0m\u001b[0;34m\u001b[0m\u001b[0m\n\u001b[0m",
      "\u001b[0;31mValueError\u001b[0m: x cannot be negative"
     ]
    }
   ],
   "source": [
    "sqrt(-7)"
   ]
  },
  {
   "cell_type": "code",
   "execution_count": 11,
   "metadata": {
    "ExecuteTime": {
     "end_time": "2017-11-15T04:10:00.289439Z",
     "start_time": "2017-11-15T04:10:00.284631Z"
    },
    "collapsed": true
   },
   "outputs": [],
   "source": [
    "def divide(x, y):\n",
    "    try:\n",
    "        ratio = x / y\n",
    "        return ratio\n",
    "    except ZeroDivisionError:\n",
    "        print('y must not be zero')"
   ]
  },
  {
   "cell_type": "code",
   "execution_count": 13,
   "metadata": {
    "ExecuteTime": {
     "end_time": "2017-11-15T04:10:06.494191Z",
     "start_time": "2017-11-15T04:10:06.489629Z"
    }
   },
   "outputs": [
    {
     "name": "stdout",
     "output_type": "stream",
     "text": [
      "y must not be zero\n"
     ]
    }
   ],
   "source": [
    "a = divide(5, 0)"
   ]
  },
  {
   "cell_type": "code",
   "execution_count": 14,
   "metadata": {
    "ExecuteTime": {
     "end_time": "2017-11-15T04:10:10.299517Z",
     "start_time": "2017-11-15T04:10:10.293111Z"
    },
    "collapsed": true
   },
   "outputs": [],
   "source": [
    "a"
   ]
  },
  {
   "cell_type": "code",
   "execution_count": 18,
   "metadata": {
    "ExecuteTime": {
     "end_time": "2017-11-15T04:15:01.276655Z",
     "start_time": "2017-11-15T04:13:27.690929Z"
    }
   },
   "outputs": [
    {
     "name": "stdout",
     "output_type": "stream",
     "text": [
      "Enter your age in years: kfks\n",
      "That is an invalid age specification\n",
      "Enter your age in years: 'dskdsk'\n",
      "That is an invalid age specification\n",
      "Enter your age in years: 86\n"
     ]
    }
   ],
   "source": [
    "age = - 1\n",
    "while age <= 0:\n",
    "    try:\n",
    "        age = int(input('Enter your age in years: '))\n",
    "        if age <= 0:\n",
    "            print('Your age must be positive')\n",
    "        \n",
    "    except ValueError:\n",
    "        print('That is an invalid age specification')\n",
    "        \n",
    "    except EOFError:\n",
    "        print('There was an unexpected error reading input.')\n",
    "        raise"
   ]
  },
  {
   "cell_type": "markdown",
   "metadata": {},
   "source": [
    "## Iterators and Generators"
   ]
  },
  {
   "cell_type": "markdown",
   "metadata": {},
   "source": [
    "In Python, the mechanism for iteration is based upon the following conventions:\n",
    "\n",
    "- An **iterator** is an object that manages an iteration through a series of values. If variable, i, identifies an iterator object, then each call to the built-in function, next(i), produces a subsequent element from the underlying series, with a StopIteration exception raised to indicate that there are no further elements.\n",
    "\n",
    "- An **iterable** is an object, obj, that produces an *iterator* via syntax *iter(obj)*. "
   ]
  },
  {
   "cell_type": "code",
   "execution_count": 19,
   "metadata": {
    "ExecuteTime": {
     "end_time": "2017-11-15T04:35:03.180069Z",
     "start_time": "2017-11-15T04:35:03.177311Z"
    },
    "collapsed": true
   },
   "outputs": [],
   "source": [
    "data = [1, 2, 4, 8]"
   ]
  },
  {
   "cell_type": "code",
   "execution_count": 20,
   "metadata": {
    "ExecuteTime": {
     "end_time": "2017-11-15T04:35:08.944109Z",
     "start_time": "2017-11-15T04:35:08.932579Z"
    }
   },
   "outputs": [
    {
     "ename": "TypeError",
     "evalue": "'list' object is not an iterator",
     "output_type": "error",
     "traceback": [
      "\u001b[0;31m---------------------------------------------------------------------------\u001b[0m",
      "\u001b[0;31mTypeError\u001b[0m                                 Traceback (most recent call last)",
      "\u001b[0;32m<ipython-input-20-e63050fdedd8>\u001b[0m in \u001b[0;36m<module>\u001b[0;34m()\u001b[0m\n\u001b[0;32m----> 1\u001b[0;31m \u001b[0mnext\u001b[0m\u001b[0;34m(\u001b[0m\u001b[0mdata\u001b[0m\u001b[0;34m)\u001b[0m\u001b[0;34m\u001b[0m\u001b[0m\n\u001b[0m",
      "\u001b[0;31mTypeError\u001b[0m: 'list' object is not an iterator"
     ]
    }
   ],
   "source": [
    "next(data)"
   ]
  },
  {
   "cell_type": "code",
   "execution_count": 21,
   "metadata": {
    "ExecuteTime": {
     "end_time": "2017-11-15T04:35:16.581787Z",
     "start_time": "2017-11-15T04:35:16.578971Z"
    },
    "collapsed": true
   },
   "outputs": [],
   "source": [
    "i = iter(data)"
   ]
  },
  {
   "cell_type": "code",
   "execution_count": 22,
   "metadata": {
    "ExecuteTime": {
     "end_time": "2017-11-15T04:35:20.378927Z",
     "start_time": "2017-11-15T04:35:20.364375Z"
    }
   },
   "outputs": [
    {
     "data": {
      "text/plain": [
       "1"
      ]
     },
     "execution_count": 22,
     "metadata": {},
     "output_type": "execute_result"
    }
   ],
   "source": [
    "next(i)"
   ]
  },
  {
   "cell_type": "code",
   "execution_count": 23,
   "metadata": {
    "ExecuteTime": {
     "end_time": "2017-11-15T04:35:23.609472Z",
     "start_time": "2017-11-15T04:35:23.604876Z"
    }
   },
   "outputs": [
    {
     "data": {
      "text/plain": [
       "2"
      ]
     },
     "execution_count": 23,
     "metadata": {},
     "output_type": "execute_result"
    }
   ],
   "source": [
    "next(i)"
   ]
  },
  {
   "cell_type": "markdown",
   "metadata": {},
   "source": [
    "- The most convenient technique for creating iterators in Python is through the use of **generators**.\n",
    "\n",
    "- A generator is implemented with a syntax that is very similar to a function, but instead returning values, a **yield** statement is executed to indicate each element of the series. "
   ]
  },
  {
   "cell_type": "code",
   "execution_count": 29,
   "metadata": {
    "ExecuteTime": {
     "end_time": "2017-11-15T04:43:13.444313Z",
     "start_time": "2017-11-15T04:43:13.438794Z"
    },
    "collapsed": true
   },
   "outputs": [],
   "source": [
    "def factors(n):\n",
    "    results = []\n",
    "    for k in range(1, n+1):\n",
    "        if n % k == 0:\n",
    "            results.append(k)\n",
    "    return results"
   ]
  },
  {
   "cell_type": "code",
   "execution_count": 32,
   "metadata": {
    "ExecuteTime": {
     "end_time": "2017-11-15T04:43:35.286332Z",
     "start_time": "2017-11-15T04:43:35.281155Z"
    }
   },
   "outputs": [
    {
     "name": "stdout",
     "output_type": "stream",
     "text": [
      "CPU times: user 0 ns, sys: 0 ns, total: 0 ns\n",
      "Wall time: 4.77 µs\n"
     ]
    }
   ],
   "source": [
    "%time \n",
    "fact = factors(100)\n"
   ]
  },
  {
   "cell_type": "code",
   "execution_count": 37,
   "metadata": {
    "ExecuteTime": {
     "end_time": "2017-11-15T04:46:31.982483Z",
     "start_time": "2017-11-15T04:46:31.976527Z"
    },
    "collapsed": true
   },
   "outputs": [],
   "source": [
    "def factors(n):\n",
    "    for k in range(1, n+1):\n",
    "        if n % k == 0:\n",
    "            yield k\n",
    "            print(k)"
   ]
  },
  {
   "cell_type": "code",
   "execution_count": 38,
   "metadata": {
    "ExecuteTime": {
     "end_time": "2017-11-15T04:46:35.608030Z",
     "start_time": "2017-11-15T04:46:35.599720Z"
    }
   },
   "outputs": [
    {
     "name": "stdout",
     "output_type": "stream",
     "text": [
      "CPU times: user 0 ns, sys: 0 ns, total: 0 ns\n",
      "Wall time: 7.87 µs\n"
     ]
    },
    {
     "data": {
      "text/plain": [
       "<generator object factors at 0x7f9f80cf2518>"
      ]
     },
     "execution_count": 38,
     "metadata": {},
     "output_type": "execute_result"
    }
   ],
   "source": [
    "%time \n",
    "factors(100)"
   ]
  },
  {
   "cell_type": "code",
   "execution_count": 36,
   "metadata": {
    "ExecuteTime": {
     "end_time": "2017-11-15T04:44:46.211717Z",
     "start_time": "2017-11-15T04:44:46.206395Z"
    }
   },
   "outputs": [
    {
     "data": {
      "text/plain": [
       "<generator object factors at 0x7f9f80347a40>"
      ]
     },
     "execution_count": 36,
     "metadata": {},
     "output_type": "execute_result"
    }
   ],
   "source": [
    "fact."
   ]
  }
 ],
 "metadata": {
  "kernelspec": {
   "display_name": "Python 3",
   "language": "python",
   "name": "python3"
  },
  "language_info": {
   "codemirror_mode": {
    "name": "ipython",
    "version": 3
   },
   "file_extension": ".py",
   "mimetype": "text/x-python",
   "name": "python",
   "nbconvert_exporter": "python",
   "pygments_lexer": "ipython3",
   "version": "3.6.2"
  },
  "toc": {
   "nav_menu": {},
   "number_sections": true,
   "sideBar": true,
   "skip_h1_title": false,
   "toc_cell": true,
   "toc_position": {},
   "toc_section_display": "block",
   "toc_window_display": false
  }
 },
 "nbformat": 4,
 "nbformat_minor": 2
}
